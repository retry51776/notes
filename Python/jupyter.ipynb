{
    "cells": [
        {
            "cell_type": "markdown",
            "source": [
                "# test itertor vs list\n",
                "This shows even pass list vs itertor have big performance differences"
            ],
            "metadata": {}
        },
        {
            "cell_type": "code",
            "execution_count": 1,
            "source": [
                "import itertools\n",
                "import time\n",
                "\n",
                "big_list = list(range(1, 1000000))\n",
                "big_list_pointer = iter(big_list)\n",
                "\n",
                "def test_pass_around(obj, nested=100):\n",
                "    if nested > 0:\n",
                "        test_pass_around(obj, nested=nested-1)\n",
                "    else:\n",
                "        return\n",
                "\n",
                "start_time = time.time()\n",
                "test_pass_around(big_list)\n",
                "print(f\"--- {time.time() - start_time} seconds ---\")   \n",
                "\n",
                "start_time = time.time()\n",
                "test_pass_around(big_list_pointer)\n",
                "print(f\"--- {time.time() - start_time} seconds ---\")    "
            ],
            "outputs": [
                {
                    "output_type": "stream",
                    "name": "stdout",
                    "text": [
                        "--- 0.00012946128845214844 seconds ---\n",
                        "--- 8.726119995117188e-05 seconds ---\n"
                    ]
                }
            ],
            "metadata": {}
        },
        {
            "cell_type": "markdown",
            "source": [
                "# Python default param bug"
            ],
            "metadata": {}
        },
        {
            "cell_type": "code",
            "execution_count": 2,
            "source": [
                "def test(a=[]):\n",
                "    a.append(1)\n",
                "    print(a)\n",
                "test()\n",
                "test()"
            ],
            "outputs": [
                {
                    "output_type": "stream",
                    "name": "stdout",
                    "text": [
                        "[1]\n",
                        "[1, 1]\n"
                    ]
                }
            ],
            "metadata": {}
        },
        {
            "cell_type": "markdown",
            "source": [
                "# itertor funny stuff"
            ],
            "metadata": {}
        },
        {
            "cell_type": "code",
            "execution_count": 4,
            "source": [
                "import itertools\n",
                "lst = range(3)\n",
                "p1 = iter(lst)\n",
                "c1, c2, c3 = itertools.tee(p1, 3)\n",
                "print('child 1 pointer: normal')\n",
                "for x in c1:\n",
                "    print(x)\n",
                "print('parent pointer: nothing, because its has a child pointer ran')\n",
                "for x in p1:\n",
                "    print(x)\n",
                "print('silbing pointer still works')\n",
                "for x in c2:\n",
                "    print(x)\n"
            ],
            "outputs": [
                {
                    "output_type": "stream",
                    "name": "stdout",
                    "text": [
                        "child 1 pointer: normal\n",
                        "0\n",
                        "1\n",
                        "2\n",
                        "parent pointer: nothing, because its has a child pointer ran\n",
                        "silbing pointer still works\n",
                        "0\n",
                        "1\n",
                        "2\n"
                    ]
                }
            ],
            "metadata": {}
        },
        {
            "cell_type": "markdown",
            "source": [
                "# Convert Class to dict"
            ],
            "metadata": {}
        },
        {
            "cell_type": "code",
            "execution_count": 11,
            "source": [
                "class A():\n",
                "    def __init__(self):\n",
                "        self.a = 'a'\n",
                "        self.b = 9\n",
                "\n",
                "test = A()\n",
                "print(test.__dict__)"
            ],
            "outputs": [
                {
                    "output_type": "stream",
                    "name": "stdout",
                    "text": [
                        "{'a': 'a', 'b': 9}\n"
                    ]
                }
            ],
            "metadata": {}
        }
    ],
    "metadata": {
        "orig_nbformat": 4,
        "language_info": {
            "name": "python",
            "version": "3.8.12",
            "mimetype": "text/x-python",
            "codemirror_mode": {
                "name": "ipython",
                "version": 3
            },
            "pygments_lexer": "ipython3",
            "nbconvert_exporter": "python",
            "file_extension": ".py"
        },
        "kernelspec": {
            "name": "python3",
            "display_name": "Python 3.8.12 64-bit ('3.8.12': pyenv)"
        },
        "interpreter": {
            "hash": "625c31d6b4db3d7e7e2853cc30dc2062e1cda684f3e49d5f899ae496ae755fe0"
        }
    },
    "nbformat": 4,
    "nbformat_minor": 2
}