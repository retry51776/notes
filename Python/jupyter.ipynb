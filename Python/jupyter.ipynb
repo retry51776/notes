{
    "cells": [
        {
            "cell_type": "markdown",
            "metadata": {},
            "source": [
                "# test itertor vs list\n",
                "This shows even pass list vs itertor have big performance differences"
            ]
        },
        {
            "cell_type": "code",
            "execution_count": 3,
            "metadata": {},
            "outputs": [
                {
                    "ename": "ValueError",
                    "evalue": "stmt is neither a string nor callable",
                    "output_type": "error",
                    "traceback": [
                        "\u001b[0;31m---------------------------------------------------------------------------\u001b[0m",
                        "\u001b[0;31mValueError\u001b[0m                                Traceback (most recent call last)",
                        "\u001b[0;32m/tmp/ipykernel_1026/1459320114.py\u001b[0m in \u001b[0;36m<module>\u001b[0;34m\u001b[0m\n\u001b[1;32m     12\u001b[0m         \u001b[0;32mreturn\u001b[0m\u001b[0;34m\u001b[0m\u001b[0;34m\u001b[0m\u001b[0m\n\u001b[1;32m     13\u001b[0m \u001b[0;34m\u001b[0m\u001b[0m\n\u001b[0;32m---> 14\u001b[0;31m \u001b[0mprint\u001b[0m\u001b[0;34m(\u001b[0m\u001b[0mtimeit\u001b[0m\u001b[0;34m.\u001b[0m\u001b[0mtimeit\u001b[0m\u001b[0;34m(\u001b[0m\u001b[0mtest_pass_around\u001b[0m\u001b[0;34m(\u001b[0m\u001b[0mbig_list\u001b[0m\u001b[0;34m)\u001b[0m\u001b[0;34m)\u001b[0m\u001b[0;34m)\u001b[0m\u001b[0;34m\u001b[0m\u001b[0;34m\u001b[0m\u001b[0m\n\u001b[0m\u001b[1;32m     15\u001b[0m \u001b[0;34m\u001b[0m\u001b[0m\n\u001b[1;32m     16\u001b[0m \u001b[0mprint\u001b[0m\u001b[0;34m(\u001b[0m\u001b[0mtimeit\u001b[0m\u001b[0;34m.\u001b[0m\u001b[0mtimeit\u001b[0m\u001b[0;34m(\u001b[0m\u001b[0mtest_pass_around\u001b[0m\u001b[0;34m(\u001b[0m\u001b[0mbig_list_pointer\u001b[0m\u001b[0;34m)\u001b[0m\u001b[0;34m)\u001b[0m\u001b[0;34m)\u001b[0m\u001b[0;34m\u001b[0m\u001b[0;34m\u001b[0m\u001b[0m\n",
                        "\u001b[0;32m~/.pyenv/versions/3.8.12/lib/python3.8/timeit.py\u001b[0m in \u001b[0;36mtimeit\u001b[0;34m(stmt, setup, timer, number, globals)\u001b[0m\n\u001b[1;32m    231\u001b[0m            number=default_number, globals=None):\n\u001b[1;32m    232\u001b[0m     \u001b[0;34m\"\"\"Convenience function to create Timer object and call timeit method.\"\"\"\u001b[0m\u001b[0;34m\u001b[0m\u001b[0;34m\u001b[0m\u001b[0m\n\u001b[0;32m--> 233\u001b[0;31m     \u001b[0;32mreturn\u001b[0m \u001b[0mTimer\u001b[0m\u001b[0;34m(\u001b[0m\u001b[0mstmt\u001b[0m\u001b[0;34m,\u001b[0m \u001b[0msetup\u001b[0m\u001b[0;34m,\u001b[0m \u001b[0mtimer\u001b[0m\u001b[0;34m,\u001b[0m \u001b[0mglobals\u001b[0m\u001b[0;34m)\u001b[0m\u001b[0;34m.\u001b[0m\u001b[0mtimeit\u001b[0m\u001b[0;34m(\u001b[0m\u001b[0mnumber\u001b[0m\u001b[0;34m)\u001b[0m\u001b[0;34m\u001b[0m\u001b[0;34m\u001b[0m\u001b[0m\n\u001b[0m\u001b[1;32m    234\u001b[0m \u001b[0;34m\u001b[0m\u001b[0m\n\u001b[1;32m    235\u001b[0m def repeat(stmt=\"pass\", setup=\"pass\", timer=default_timer,\n",
                        "\u001b[0;32m~/.pyenv/versions/3.8.12/lib/python3.8/timeit.py\u001b[0m in \u001b[0;36m__init__\u001b[0;34m(self, stmt, setup, timer, globals)\u001b[0m\n\u001b[1;32m    127\u001b[0m             \u001b[0mstmt\u001b[0m \u001b[0;34m=\u001b[0m \u001b[0;34m'_stmt()'\u001b[0m\u001b[0;34m\u001b[0m\u001b[0;34m\u001b[0m\u001b[0m\n\u001b[1;32m    128\u001b[0m         \u001b[0;32melse\u001b[0m\u001b[0;34m:\u001b[0m\u001b[0;34m\u001b[0m\u001b[0;34m\u001b[0m\u001b[0m\n\u001b[0;32m--> 129\u001b[0;31m             \u001b[0;32mraise\u001b[0m \u001b[0mValueError\u001b[0m\u001b[0;34m(\u001b[0m\u001b[0;34m\"stmt is neither a string nor callable\"\u001b[0m\u001b[0;34m)\u001b[0m\u001b[0;34m\u001b[0m\u001b[0;34m\u001b[0m\u001b[0m\n\u001b[0m\u001b[1;32m    130\u001b[0m         \u001b[0msrc\u001b[0m \u001b[0;34m=\u001b[0m \u001b[0mtemplate\u001b[0m\u001b[0;34m.\u001b[0m\u001b[0mformat\u001b[0m\u001b[0;34m(\u001b[0m\u001b[0mstmt\u001b[0m\u001b[0;34m=\u001b[0m\u001b[0mstmt\u001b[0m\u001b[0;34m,\u001b[0m \u001b[0msetup\u001b[0m\u001b[0;34m=\u001b[0m\u001b[0msetup\u001b[0m\u001b[0;34m,\u001b[0m \u001b[0minit\u001b[0m\u001b[0;34m=\u001b[0m\u001b[0minit\u001b[0m\u001b[0;34m)\u001b[0m\u001b[0;34m\u001b[0m\u001b[0;34m\u001b[0m\u001b[0m\n\u001b[1;32m    131\u001b[0m         \u001b[0mself\u001b[0m\u001b[0;34m.\u001b[0m\u001b[0msrc\u001b[0m \u001b[0;34m=\u001b[0m \u001b[0msrc\u001b[0m  \u001b[0;31m# Save for traceback display\u001b[0m\u001b[0;34m\u001b[0m\u001b[0;34m\u001b[0m\u001b[0m\n",
                        "\u001b[0;31mValueError\u001b[0m: stmt is neither a string nor callable"
                    ]
                }
            ],
            "source": [
                "import itertools\n",
                "import time\n",
                "import timeit\n",
                "\n",
                "big_list = list(range(1, 1000000))\n",
                "big_list_pointer = iter(big_list)\n",
                "\n",
                "def test_pass_around(obj, nested=1000):\n",
                "    if nested > 0:\n",
                "        test_pass_around(obj, nested=nested-1)\n",
                "    else:\n",
                "        return\n",
                "\n",
                "start_time = time.time()\n",
                "test_pass_around(big_list)\n",
                "print(f\"--- {time.time() - start_time} seconds ---\")   \n",
                "\n",
                "start_time = time.time()\n",
                "test_pass_around(big_list_pointer)\n",
                "print(f\"--- {time.time() - start_time} seconds ---\")    "
            ]
        },
        {
            "cell_type": "code",
            "execution_count": 4,
            "metadata": {},
            "outputs": [
                {
                    "name": "stdout",
                    "output_type": "stream",
                    "text": [
                        "--- 0.0860905647277832 seconds ---\n",
                        "--- 0.0884096622467041 seconds ---\n"
                    ]
                }
            ],
            "source": [
                "import itertools\n",
                "import time\n",
                "\n",
                "big_list = list(range(1, 100000))\n",
                "\n",
                "start_time = time.time()\n",
                "for x in range(10):\n",
                "    for y in big_list:\n",
                "        a = 0\n",
                "print(f\"--- {time.time() - start_time} seconds ---\")   \n",
                "\n",
                "start_time = time.time()\n",
                "for x in range(10):\n",
                "    big_list_pointer = iter(big_list)\n",
                "    for y in big_list_pointer:\n",
                "        a = 0\n",
                "print(f\"--- {time.time() - start_time} seconds ---\")    \n",
                "print(typeof [])"
            ]
        },
        {
            "cell_type": "markdown",
            "metadata": {},
            "source": [
                "# Python default param bug"
            ]
        },
        {
            "cell_type": "code",
            "execution_count": 2,
            "metadata": {},
            "outputs": [
                {
                    "name": "stdout",
                    "output_type": "stream",
                    "text": [
                        "[1]\n",
                        "[1, 1]\n"
                    ]
                }
            ],
            "source": [
                "def test(a=[]):\n",
                "    a.append(1)\n",
                "    print(a)\n",
                "test()\n",
                "test()"
            ]
        },
        {
            "cell_type": "markdown",
            "metadata": {},
            "source": [
                "# itertor funny stuff"
            ]
        },
        {
            "cell_type": "code",
            "execution_count": 4,
            "metadata": {},
            "outputs": [
                {
                    "name": "stdout",
                    "output_type": "stream",
                    "text": [
                        "child 1 pointer: normal\n",
                        "0\n",
                        "1\n",
                        "2\n",
                        "parent pointer: nothing, because its has a child pointer ran\n",
                        "silbing pointer still works\n",
                        "0\n",
                        "1\n",
                        "2\n"
                    ]
                }
            ],
            "source": [
                "import itertools\n",
                "lst = range(3)\n",
                "p1 = iter(lst)\n",
                "c1, c2, c3 = itertools.tee(p1, 3)\n",
                "print('child 1 pointer: normal')\n",
                "for x in c1:\n",
                "    print(x)\n",
                "print('parent pointer: nothing, because its has a child pointer ran')\n",
                "for x in p1:\n",
                "    print(x)\n",
                "print('silbing pointer still works')\n",
                "for x in c2:\n",
                "    print(x)\n"
            ]
        },
        {
            "cell_type": "markdown",
            "metadata": {},
            "source": [
                "# Convert Class to dict"
            ]
        },
        {
            "cell_type": "code",
            "execution_count": 11,
            "metadata": {},
            "outputs": [
                {
                    "name": "stdout",
                    "output_type": "stream",
                    "text": [
                        "{'a': 'a', 'b': 9}\n"
                    ]
                }
            ],
            "source": [
                "class A():\n",
                "    def __init__(self):\n",
                "        self.a = 'a'\n",
                "        self.b = 9\n",
                "\n",
                "test = A()\n",
                "print(test.__dict__)"
            ]
        }
    ],
    "metadata": {
        "interpreter": {
            "hash": "8b8334dab9339717f727a1deaf837b322d7a41c20d15cc86be99a8e69ceec8ce"
        },
        "kernelspec": {
            "display_name": "Python 3.8.12 64-bit ('3.8.12': pyenv)",
            "name": "python3"
        },
        "language_info": {
            "codemirror_mode": {
                "name": "ipython",
                "version": 3
            },
            "file_extension": ".py",
            "mimetype": "text/x-python",
            "name": "python",
            "nbconvert_exporter": "python",
            "pygments_lexer": "ipython3",
            "version": "3.8.12"
        },
        "orig_nbformat": 4
    },
    "nbformat": 4,
    "nbformat_minor": 2
}
