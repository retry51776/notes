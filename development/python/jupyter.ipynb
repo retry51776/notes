{
    "cells": [
        {
            "cell_type": "markdown",
            "metadata": {},
            "source": [
                "# Python Basic Tips"
            ]
        },
        {
            "cell_type": "code",
            "execution_count": 2,
            "metadata": {},
            "outputs": [
                {
                    "name": "stdout",
                    "output_type": "stream",
                    "text": [
                        "16\n"
                    ]
                }
            ],
            "source": [
                "import os\n",
                "print(os.cpu_count())"
            ]
        },
        {
            "cell_type": "code",
            "execution_count": 3,
            "metadata": {},
            "outputs": [
                {
                    "name": "stdout",
                    "output_type": "stream",
                    "text": [
                        "4 5 4\n",
                        "{'ff': 0} {'ff': 0} {'ff': 0}\n",
                        "0 1 9\n"
                    ]
                },
                {
                    "data": {
                        "text/plain": [
                            "'Format to 2021-10-22'"
                        ]
                    },
                    "execution_count": 3,
                    "metadata": {},
                    "output_type": "execute_result"
                }
            ],
            "source": [
                "from datetime import date\n",
                "# Assign Multiple Variables\n",
                "a, b, c = 1, 2, 3\n",
                "# This is okay to assign immutable variable\n",
                "a = b = c = 4\n",
                "b = 5\n",
                "print(a, b, c)\n",
                "\n",
                "# This is BAD!\n",
                "a = b = c = {}\n",
                "b['ff'] = 0\n",
                "print(a, b, c)\n",
                "\n",
                "# Destruct Variables\n",
                "a, b, *test, d = list(range(10))\n",
                "print(a, b, test, d)\n",
                "\n",
                "# F string formate\n",
                "f'Rounded to {2222222.222:_.0f}'\n",
                "f'Format to {date.today():%Y-%m-%d}'"
            ]
        },
        {
            "cell_type": "markdown",
            "metadata": {},
            "source": [
                "# Python default param bug"
            ]
        },
        {
            "cell_type": "code",
            "execution_count": 7,
            "metadata": {},
            "outputs": [
                {
                    "name": "stdout",
                    "output_type": "stream",
                    "text": [
                        "[1]\n",
                        "[1]\n"
                    ]
                }
            ],
            "source": [
                "def test(a=[]):\n",
                "    if a is None:\n",
                "        a = []\n",
                "    a.append(1)\n",
                "    print(a)\n",
                "test(None)\n",
                "test(None)"
            ]
        },
        {
            "cell_type": "markdown",
            "metadata": {},
            "source": [
                "# Convert Class to dict"
            ]
        },
        {
            "cell_type": "code",
            "execution_count": 8,
            "metadata": {},
            "outputs": [
                {
                    "name": "stdout",
                    "output_type": "stream",
                    "text": [
                        "{'a': 'a', 'b': 9}\n"
                    ]
                }
            ],
            "source": [
                "class A():\n",
                "    def __init__(self):\n",
                "        self.a = 'a'\n",
                "        self.b = 9\n",
                "\n",
                "test = A()\n",
                "print(test.__dict__)"
            ]
        },
        {
            "cell_type": "code",
            "execution_count": 16,
            "metadata": {},
            "outputs": [
                {
                    "name": "stdout",
                    "output_type": "stream",
                    "text": [
                        "1\n",
                        "None\n",
                        "{\n",
                        "  \"a\": 1,\n",
                        "  \"b\": 2,\n",
                        "  \"c\": {\n",
                        "    \"d\": 4\n",
                        "  },\n",
                        "  \"ad\": null\n",
                        "}\n"
                    ]
                },
                {
                    "ename": "KeyError",
                    "evalue": "'cdddd'",
                    "output_type": "error",
                    "traceback": [
                        "\u001b[0;31m---------------------------------------------------------------------------\u001b[0m",
                        "\u001b[0;31mKeyError\u001b[0m                                  Traceback (most recent call last)",
                        "\u001b[0;32m/tmp/ipykernel_1014/2230179072.py\u001b[0m in \u001b[0;36m<module>\u001b[0;34m\u001b[0m\n\u001b[1;32m     20\u001b[0m }\n\u001b[1;32m     21\u001b[0m \u001b[0;32mfrom\u001b[0m \u001b[0moperator\u001b[0m \u001b[0;32mimport\u001b[0m \u001b[0mitemgetter\u001b[0m\u001b[0;34m\u001b[0m\u001b[0;34m\u001b[0m\u001b[0m\n\u001b[0;32m---> 22\u001b[0;31m \u001b[0ma\u001b[0m\u001b[0;34m,\u001b[0m \u001b[0mb\u001b[0m \u001b[0;34m=\u001b[0m \u001b[0mitemgetter\u001b[0m\u001b[0;34m(\u001b[0m\u001b[0;34m'a'\u001b[0m\u001b[0;34m,\u001b[0m \u001b[0;34m'cdddd'\u001b[0m\u001b[0;34m)\u001b[0m\u001b[0;34m(\u001b[0m\u001b[0mobj\u001b[0m\u001b[0;34m)\u001b[0m\u001b[0;34m\u001b[0m\u001b[0;34m\u001b[0m\u001b[0m\n\u001b[0m\u001b[1;32m     23\u001b[0m \u001b[0mprint\u001b[0m\u001b[0;34m(\u001b[0m\u001b[0ma\u001b[0m\u001b[0;34m,\u001b[0m \u001b[0mb\u001b[0m\u001b[0;34m)\u001b[0m\u001b[0;34m\u001b[0m\u001b[0;34m\u001b[0m\u001b[0m\n",
                        "\u001b[0;31mKeyError\u001b[0m: 'cdddd'"
                    ]
                }
            ],
            "source": [
                "from collections import defaultdict\n",
                "import json\n",
                "obj = defaultdict(lambda: None, {\n",
                "    'a': 1,\n",
                "    'b': 2,\n",
                "    'c': {\n",
                "        'd': 4\n",
                "    }\n",
                "})\n",
                "print(obj['a'])\n",
                "print(obj['ad'])\n",
                "print(json.dumps(obj, indent=2))\n",
                "\n",
                "obj = {\n",
                "    'a': 1,\n",
                "    'b': 2,\n",
                "    'c': {\n",
                "        'd': 4\n",
                "    }\n",
                "}\n",
                "from operator import itemgetter\n",
                "a, b = itemgetter('a', 'cdddd')(obj)\n",
                "print(a, b)"
            ]
        },
        {
            "cell_type": "markdown",
            "metadata": {},
            "source": [
                "# Python Logger\n",
                "https://www.youtube.com/watch?v=rcfmITJ2E7c\n",
                "\n",
                "logger.basicConfig(level=10, format='%(name)s - %(message)s')\n",
                "\n",
                "## components\n",
                "- Logger: application log api\n",
                "    - root logger `logging.getLogger()`\n",
                "    - app logger `logging.getLogger('elasticsearch').setLevel(logging.WARNING)`\n",
                "- Handler: Send logs to destination\n",
                "    - FileHandler\n",
                "    - Stream\n",
                "- Filter: Filter before Handler\n",
                "- Formatter: format logs\n"
            ]
        },
        {
            "cell_type": "code",
            "execution_count": 20,
            "metadata": {},
            "outputs": [
                {
                    "name": "stdout",
                    "output_type": "stream",
                    "text": [
                        "got logger from __main__\n",
                        "Proof of codes always ran when import\n"
                    ]
                }
            ],
            "source": [
                "import logging\n",
                "def test(a):\n",
                "    b = logging.getLogger()\n",
                "    print(a == b)\n",
                "\n",
                "a = logging.getLogger()\n",
                "c = logging.getLogger('haha')\n",
                "test(a)\n",
                "test(c)"
            ]
        },
        {
            "cell_type": "markdown",
            "metadata": {},
            "source": [
                "# Python Intermediate Performance Tips\n",
                "---\n",
                "## test itertor vs list\n",
                "This shows even pass list vs itertor have big performance differences"
            ]
        },
        {
            "cell_type": "code",
            "execution_count": 22,
            "metadata": {},
            "outputs": [
                {
                    "name": "stdout",
                    "output_type": "stream",
                    "text": [
                        "--- 0.012525796890258789 seconds ---\n",
                        "--- 0.00045871734619140625 seconds ---\n"
                    ]
                }
            ],
            "source": [
                "import itertools\n",
                "import time\n",
                "\n",
                "big_list = list(range(1, 1000000))\n",
                "big_list_pointer = iter(big_list)\n",
                "\n",
                "def test_pass_around(obj, nested=1000):\n",
                "    if nested > 0:\n",
                "        test_pass_around(obj, nested=nested-1)\n",
                "    else:\n",
                "        return\n",
                "\n",
                "start_time = time.time()\n",
                "test_pass_around(big_list)\n",
                "print(f\"--- {time.time() - start_time} seconds ---\")   \n",
                "\n",
                "start_time = time.time()\n",
                "test_pass_around(big_list_pointer)\n",
                "print(f\"--- {time.time() - start_time} seconds ---\")    "
            ]
        },
        {
            "cell_type": "markdown",
            "metadata": {},
            "source": [
                "# itertor funny stuff"
            ]
        },
        {
            "cell_type": "code",
            "execution_count": 23,
            "metadata": {},
            "outputs": [
                {
                    "name": "stdout",
                    "output_type": "stream",
                    "text": [
                        "child 1 pointer: normal\n",
                        "0\n",
                        "1\n",
                        "2\n",
                        "parent pointer: nothing, because its has a child pointer ran\n",
                        "silbing pointer still works\n",
                        "0\n",
                        "1\n",
                        "2\n"
                    ]
                }
            ],
            "source": [
                "import itertools\n",
                "lst = range(3)\n",
                "p1 = iter(lst)\n",
                "c1, c2, c3 = itertools.tee(p1, 3)\n",
                "print('child 1 pointer: normal')\n",
                "for x in c1:\n",
                "    print(x)\n",
                "print('parent pointer: nothing, because its has a child pointer ran')\n",
                "for x in p1:\n",
                "    print(x)\n",
                "print('silbing pointer still works')\n",
                "for x in c2:\n",
                "    print(x)\n"
            ]
        },
        {
            "cell_type": "code",
            "execution_count": 25,
            "metadata": {},
            "outputs": [
                {
                    "data": {
                        "text/plain": [
                            "0.0031824530015001073"
                        ]
                    },
                    "execution_count": 25,
                    "metadata": {},
                    "output_type": "execute_result"
                }
            ],
            "source": [
                "\n",
                "from functools import lru_cache\n",
                "from timeit import timeit\n",
                "@lru_cache(maxsize=10000)\n",
                "def calc_len(num):\n",
                "    if num <= 1:\n",
                "        return 1\n",
                "    if num % 2 == 1:\n",
                "        return calc_len(3 * num + 1) + 1\n",
                "    else:\n",
                "        return calc_len(num / 2) + 1\n",
                "\n",
                "def task(scan=1000):\n",
                "    max_len = float('-inf')\n",
                "    for x in range(scan):\n",
                "        cur_len = calc_len(x)\n",
                "        if cur_len > max_len:\n",
                "            max_len = cur_len\n",
                "timeit(task, number=3)"
            ]
        }
    ],
    "metadata": {
        "kernelspec": {
            "display_name": "Python 3.10.5 64-bit",
            "language": "python",
            "name": "python3"
        },
        "language_info": {
            "codemirror_mode": {
                "name": "ipython",
                "version": 3
            },
            "file_extension": ".py",
            "mimetype": "text/x-python",
            "name": "python",
            "nbconvert_exporter": "python",
            "pygments_lexer": "ipython3",
            "version": "3.10.5"
        },
        "orig_nbformat": 4,
        "vscode": {
            "interpreter": {
                "hash": "aee8b7b246df8f9039afb4144a1f6fd8d2ca17a180786b69acc140d282b71a49"
            }
        }
    },
    "nbformat": 4,
    "nbformat_minor": 2
}
